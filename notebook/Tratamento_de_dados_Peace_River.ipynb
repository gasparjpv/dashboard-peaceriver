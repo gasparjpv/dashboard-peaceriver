{
  "nbformat": 4,
  "nbformat_minor": 0,
  "metadata": {
    "colab": {
      "provenance": [],
      "include_colab_link": true
    },
    "kernelspec": {
      "name": "python3",
      "display_name": "Python 3"
    },
    "language_info": {
      "name": "python"
    }
  },
  "cells": [
    {
      "cell_type": "markdown",
      "metadata": {
        "id": "view-in-github",
        "colab_type": "text"
      },
      "source": [
        "<a href=\"https://colab.research.google.com/github/gasparjpv/dashboard-peaceriver/blob/main/notebook/Tratamento_de_dados_Peace_River.ipynb\" target=\"_parent\"><img src=\"https://colab.research.google.com/assets/colab-badge.svg\" alt=\"Open In Colab\"/></a>"
      ]
    },
    {
      "cell_type": "code",
      "execution_count": null,
      "metadata": {
        "cellView": "form",
        "id": "ztivryFYPUt3"
      },
      "outputs": [],
      "source": [
        "#@title Função para download das bases\n",
        "\n",
        "def check_and_install(package):\n",
        "    import subprocess\n",
        "    import sys\n",
        "    try:\n",
        "        __import__(package)\n",
        "    except ImportError:\n",
        "        subprocess.check_call([sys.executable, \"-m\", \"pip\", \"install\", package])\n",
        "\n",
        "\n",
        "def extract_drive_id(url):\n",
        "    import re\n",
        "    match = re.search(r'/d/([a-zA-Z0-9_-]+)', url)\n",
        "    if match:\n",
        "        return match.group(1)\n",
        "    else:\n",
        "        return None\n",
        "\n",
        "\n",
        "def download_file_from_google_drive(url_file_drive, file_name, path_destination=None):\n",
        "    check_and_install('gdown')\n",
        "    import gdown\n",
        "    import os\n",
        "    import re\n",
        "\n",
        "    id = extract_drive_id(url=url_file_drive)\n",
        "    print(\"ID = \",id)\n",
        "    # Criar diretório se não existir\n",
        "    if path_destination is not None:\n",
        "        if not os.path.exists(path_destination):\n",
        "            os.makedirs(path_destination)\n",
        "    # URL compartilhada do Google Drive\n",
        "    url = f'https://drive.google.com/uc?id={id}'\n",
        "\n",
        "    if path_destination is not None:\n",
        "        destination = path_destination\n",
        "    else:\n",
        "        destination = ''\n",
        "    output = destination+'/'+file_name\n",
        "    gdown.download(url, output, quiet=False)"
      ]
    },
    {
      "cell_type": "code",
      "source": [
        "#@title Download das Bases\n",
        "download_file_from_google_drive(url_file_drive='https://drive.google.com/file/d/1-XIJ2dcuGUjFHRxD0aOJ2iiAkP_ds990/view?usp=sharing', file_name='WIN_RESULTS_PRB.csv', path_destination='dataset')"
      ],
      "metadata": {
        "colab": {
          "base_uri": "https://localhost:8080/"
        },
        "cellView": "form",
        "id": "8nrpSUqRPbYF",
        "outputId": "aa210bf7-9e8e-4d41-9950-be8faa571fb9"
      },
      "execution_count": null,
      "outputs": [
        {
          "output_type": "stream",
          "name": "stdout",
          "text": [
            "ID =  1-XIJ2dcuGUjFHRxD0aOJ2iiAkP_ds990\n"
          ]
        },
        {
          "output_type": "stream",
          "name": "stderr",
          "text": [
            "Downloading...\n",
            "From (original): https://drive.google.com/uc?id=1-XIJ2dcuGUjFHRxD0aOJ2iiAkP_ds990\n",
            "From (redirected): https://drive.google.com/uc?id=1-XIJ2dcuGUjFHRxD0aOJ2iiAkP_ds990&confirm=t&uuid=501f0ea0-7be0-4f9f-ac70-a74dd596f65a\n",
            "To: /content/dataset/WIN_RESULTS_PRB.csv\n",
            "100%|██████████| 209M/209M [00:03<00:00, 61.8MB/s]\n"
          ]
        }
      ]
    },
    {
      "cell_type": "code",
      "source": [
        "#@title Instalar livrarias\n",
        "check_and_install('fireducks')\n",
        "# import fireducks.pandas as pd\n",
        "import fireducks.pandas as pd\n",
        "import geopandas as gpd\n",
        "from shapely.geometry import Point\n",
        "import matplotlib.pyplot as plt\n",
        "import seaborn as sns\n",
        "import warnings\n",
        "warnings.filterwarnings('ignore')\n",
        "\n",
        "pd.set_option('display.max_columns', None)\n",
        "pd.set_option('display.max_rows', None)\n"
      ],
      "metadata": {
        "cellView": "form",
        "id": "dgUCN7mLPqtF"
      },
      "execution_count": null,
      "outputs": []
    },
    {
      "cell_type": "code",
      "source": [
        "#@title Cria Dataframes\n",
        "df_win_results_prb = pd.read_csv('dataset/WIN_RESULTS_PRB.csv', low_memory=False)"
      ],
      "metadata": {
        "cellView": "form",
        "id": "CO6JKsZyPuh5"
      },
      "execution_count": null,
      "outputs": []
    },
    {
      "cell_type": "code",
      "source": [
        "#@title Tratando campos numericos com espaços e caracteres especiais\n",
        "\n",
        "def remove_spaces_and_dots(df, column_names):\n",
        "  for column_name in column_names:\n",
        "    df[column_name] = df[column_name].str.replace(r'\\s+', '', regex=True)\n",
        "    df[column_name] = pd.to_numeric(df[column_name], errors='coerce')\n",
        "    #df[column_name] = df[column_name].fillna('')\n",
        "    #pd.options.display.float_format = '{:.2f}'.format\n",
        "  return df\n",
        "\n",
        "df_win_results_prb['month'] = df_win_results_prb['month'].str.replace(r'\\s+', '', regex=True)\n",
        "\n",
        "df_win_results_prb['ACTIVITY_BOTTOM_DEPTH'] = df_win_results_prb['ACTIVITY_BOTTOM_DEPTH'].str.replace(r'\\s+', '', regex=True)\n",
        "df_win_results_prb['ACTIVITY_BOTTOM_DEPTH'] = df_win_results_prb['ACTIVITY_BOTTOM_DEPTH'].str.replace(r'\\.', '', regex=True)\n",
        "\n",
        "df_win_results_prb['ACTIVITY_TOP_DEPTH'] = df_win_results_prb['ACTIVITY_TOP_DEPTH'].str.replace(r'\\s+', '', regex=True)\n",
        "df_win_results_prb['ACTIVITY_TOP_DEPTH'] = df_win_results_prb['ACTIVITY_TOP_DEPTH'].str.replace(r'\\.', '', regex=True)\n",
        "\n",
        "colunas_a_tratar_1 = ['ACTIVITY_DEPTH', 'DEP_MDL', 'DEP_PQL', 'DEP_RESULT_VALUE', 'final_result_value']\n",
        "\n",
        "df_win_results_prb = remove_spaces_and_dots(df_win_results_prb, colunas_a_tratar_1)\n",
        "\n",
        "df_win_results_prb = df_win_results_prb.dropna(subset=['final_result_value'])\n"
      ],
      "metadata": {
        "cellView": "form",
        "id": "YHCPkT_KPzV3"
      },
      "execution_count": null,
      "outputs": []
    },
    {
      "cell_type": "code",
      "source": [
        "#@title Seleção das colunas de interesse e tratamento de campo de data\n",
        "df_filter = df_win_results_prb\n",
        "\n",
        "columns_to_keep = ['ACTIVITY_START_DATE', 'ANALYSIS_METHOD', 'ANALYTE_PRIMARY_NAME', 'BASIN_NAME','County_Name', 'MONITORING_LOCATION_NAME', 'ORGANIZATION_NAME', 'PROJECT_ID', 'RESULT_KEY', \"DEP_RESULT_UNIT\", \"final_result_value\", 'SECONDARY_TYPE', 'x', 'y']\n",
        "df_filter = df_filter[columns_to_keep]\n",
        "\n",
        "df_filter['ACTIVITY_START_DATE'] = pd.to_datetime(df_filter['ACTIVITY_START_DATE'],format='%d%b%y:%H:%M:%S')\n",
        "\n",
        "df_filter.rename(columns=lambda x: x.lower(), inplace=True)\n",
        "df_filter.loc[df_filter['basin_name'].isnull(), 'basin_name'] = 'CHARLOTTE HARBOR'\n",
        "df_filter['result_key'] = df_filter['result_key'].astype('str')\n",
        "df_filter['activity_start_date'] = df_filter['activity_start_date'].dt.strftime('%Y-%m-%d')"
      ],
      "metadata": {
        "cellView": "form",
        "id": "fT_8gE3tP2kF"
      },
      "execution_count": null,
      "outputs": []
    },
    {
      "cell_type": "code",
      "source": [
        "#@title Criar base tipo sqlite\n",
        "import pandas as pd\n",
        "import sqlite3\n",
        "from google.colab import files\n",
        "\n",
        "conn = sqlite3.connect('banco_dados.db')\n",
        "\n",
        "df_filter.to_sql('minha_tabela', conn, if_exists='replace', index=False)\n",
        "\n",
        "# Fechar a conexão\n",
        "conn.close()\n",
        "\n",
        "# Fazer o download do arquivo .db para o seu computador\n",
        "files.download('banco_dados.db')\n"
      ],
      "metadata": {
        "colab": {
          "base_uri": "https://localhost:8080/",
          "height": 34
        },
        "cellView": "form",
        "id": "4LdbLJiCP8-Z",
        "outputId": "897ebe50-3b9e-4c27-82e3-f148cab88e50"
      },
      "execution_count": null,
      "outputs": [
        {
          "output_type": "display_data",
          "data": {
            "text/plain": [
              "<IPython.core.display.Javascript object>"
            ],
            "application/javascript": [
              "\n",
              "    async function download(id, filename, size) {\n",
              "      if (!google.colab.kernel.accessAllowed) {\n",
              "        return;\n",
              "      }\n",
              "      const div = document.createElement('div');\n",
              "      const label = document.createElement('label');\n",
              "      label.textContent = `Downloading \"${filename}\": `;\n",
              "      div.appendChild(label);\n",
              "      const progress = document.createElement('progress');\n",
              "      progress.max = size;\n",
              "      div.appendChild(progress);\n",
              "      document.body.appendChild(div);\n",
              "\n",
              "      const buffers = [];\n",
              "      let downloaded = 0;\n",
              "\n",
              "      const channel = await google.colab.kernel.comms.open(id);\n",
              "      // Send a message to notify the kernel that we're ready.\n",
              "      channel.send({})\n",
              "\n",
              "      for await (const message of channel.messages) {\n",
              "        // Send a message to notify the kernel that we're ready.\n",
              "        channel.send({})\n",
              "        if (message.buffers) {\n",
              "          for (const buffer of message.buffers) {\n",
              "            buffers.push(buffer);\n",
              "            downloaded += buffer.byteLength;\n",
              "            progress.value = downloaded;\n",
              "          }\n",
              "        }\n",
              "      }\n",
              "      const blob = new Blob(buffers, {type: 'application/binary'});\n",
              "      const a = document.createElement('a');\n",
              "      a.href = window.URL.createObjectURL(blob);\n",
              "      a.download = filename;\n",
              "      div.appendChild(a);\n",
              "      a.click();\n",
              "      div.remove();\n",
              "    }\n",
              "  "
            ]
          },
          "metadata": {}
        },
        {
          "output_type": "display_data",
          "data": {
            "text/plain": [
              "<IPython.core.display.Javascript object>"
            ],
            "application/javascript": [
              "download(\"download_132248e8-b219-4c90-90b3-93f4c6eefebf\", \"banco_dados.db\", 57257984)"
            ]
          },
          "metadata": {}
        }
      ]
    }
  ]
}